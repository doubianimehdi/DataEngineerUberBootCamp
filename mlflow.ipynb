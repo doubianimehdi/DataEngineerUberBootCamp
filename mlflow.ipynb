{
 "cells": [
  {
   "cell_type": "markdown",
   "metadata": {
    "toc": true
   },
   "source": [
    "<h1>Table of Contents<span class=\"tocSkip\"></span></h1>\n",
    "<div class=\"toc\"><ul class=\"toc-item\"></ul></div>"
   ]
  },
  {
   "cell_type": "code",
   "execution_count": 1,
   "metadata": {
    "ExecuteTime": {
     "end_time": "2021-01-17T16:24:26.236568Z",
     "start_time": "2021-01-17T16:24:17.005441Z"
    }
   },
   "outputs": [],
   "source": [
    "!pip install mlflow -q\n",
    "import os\n",
    "import numpy as np\n",
    "import pandas as pd\n",
    "import matplotlib.pyplot as plt\n",
    "import seaborn as sns\n",
    "\n",
    "import mlflow\n",
    "import mlflow.sklearn # Wrapper pour scikit-learn\n",
    "\n",
    "from sklearn.ensemble import RandomForestRegressor\n",
    "from sklearn.model_selection import train_test_split\n",
    "\n",
    "sns.set(rc={'figure.figsize':(14,10)})\n",
    "\n",
    "def mae(y_star, y_pred):\n",
    "    return 1 / len(y_star) * np.sum(np.abs(y_star - y_pred))"
   ]
  },
  {
   "cell_type": "code",
   "execution_count": 7,
   "metadata": {
    "ExecuteTime": {
     "end_time": "2021-01-17T16:36:15.880911Z",
     "start_time": "2021-01-17T16:35:40.734135Z"
    }
   },
   "outputs": [
    {
     "name": "stdout",
     "output_type": "stream",
     "text": [
      "Chargement des données ...\n"
     ]
    }
   ],
   "source": [
    "data = None\n",
    "\n",
    "print(\"Chargement des données ...\")\n",
    "for chunk in pd.read_csv(\n",
    "    #\"https://s3.amazonaws.com/nyc-tlc/trip+data/yellow_tripdata_2019-03.csv\",\n",
    "    \"https://s3.amazonaws.com/nyc-tlc/trip+data/yellow_tripdata_2018-01.csv\",\n",
    "    chunksize=1000000):\n",
    "    data = chunk\n",
    "    break\n",
    "data['tpep_pickup_datetime'] = pd.to_datetime(data['tpep_pickup_datetime'])\n",
    "data['tpep_dropoff_datetime'] = pd.to_datetime(data['tpep_dropoff_datetime'])"
   ]
  },
  {
   "cell_type": "code",
   "execution_count": 8,
   "metadata": {
    "ExecuteTime": {
     "end_time": "2021-01-17T16:36:16.205969Z",
     "start_time": "2021-01-17T16:36:15.914418Z"
    }
   },
   "outputs": [],
   "source": [
    "# Création des colonnes liés au pickup\n",
    "data['pickup_hour'] = data['tpep_pickup_datetime'].dt.hour\n",
    "data['pickup_minute'] = data['tpep_pickup_datetime'].dt.minute\n",
    "data['pickup_second'] = data['tpep_pickup_datetime'].dt.second\n",
    "# Durée réelle du trajet en secondes\n",
    "data['duration'] = (data['tpep_dropoff_datetime'] - data['tpep_pickup_datetime']).dt.seconds\n",
    "data_base = data[(data['duration'] < 3600) & (data['duration'] > 60)]"
   ]
  },
  {
   "cell_type": "code",
   "execution_count": 9,
   "metadata": {
    "ExecuteTime": {
     "end_time": "2021-01-17T16:36:27.092001Z",
     "start_time": "2021-01-17T16:36:27.004739Z"
    }
   },
   "outputs": [
    {
     "data": {
      "text/html": [
       "<div>\n",
       "<style scoped>\n",
       "    .dataframe tbody tr th:only-of-type {\n",
       "        vertical-align: middle;\n",
       "    }\n",
       "\n",
       "    .dataframe tbody tr th {\n",
       "        vertical-align: top;\n",
       "    }\n",
       "\n",
       "    .dataframe thead th {\n",
       "        text-align: right;\n",
       "    }\n",
       "</style>\n",
       "<table border=\"1\" class=\"dataframe\">\n",
       "  <thead>\n",
       "    <tr style=\"text-align: right;\">\n",
       "      <th></th>\n",
       "      <th>trip_distance</th>\n",
       "      <th>PULocationID</th>\n",
       "      <th>DOLocationID</th>\n",
       "      <th>pickup_hour</th>\n",
       "      <th>pickup_minute</th>\n",
       "      <th>pickup_second</th>\n",
       "    </tr>\n",
       "  </thead>\n",
       "  <tbody>\n",
       "    <tr>\n",
       "      <th>456090</th>\n",
       "      <td>0.59</td>\n",
       "      <td>230</td>\n",
       "      <td>163</td>\n",
       "      <td>21</td>\n",
       "      <td>48</td>\n",
       "      <td>48</td>\n",
       "    </tr>\n",
       "    <tr>\n",
       "      <th>291909</th>\n",
       "      <td>1.13</td>\n",
       "      <td>170</td>\n",
       "      <td>107</td>\n",
       "      <td>9</td>\n",
       "      <td>40</td>\n",
       "      <td>11</td>\n",
       "    </tr>\n",
       "    <tr>\n",
       "      <th>925410</th>\n",
       "      <td>1.30</td>\n",
       "      <td>143</td>\n",
       "      <td>238</td>\n",
       "      <td>10</td>\n",
       "      <td>43</td>\n",
       "      <td>19</td>\n",
       "    </tr>\n",
       "    <tr>\n",
       "      <th>232651</th>\n",
       "      <td>3.28</td>\n",
       "      <td>230</td>\n",
       "      <td>137</td>\n",
       "      <td>23</td>\n",
       "      <td>13</td>\n",
       "      <td>55</td>\n",
       "    </tr>\n",
       "    <tr>\n",
       "      <th>63083</th>\n",
       "      <td>0.70</td>\n",
       "      <td>263</td>\n",
       "      <td>263</td>\n",
       "      <td>3</td>\n",
       "      <td>32</td>\n",
       "      <td>58</td>\n",
       "    </tr>\n",
       "  </tbody>\n",
       "</table>\n",
       "</div>"
      ],
      "text/plain": [
       "        trip_distance  PULocationID  DOLocationID  pickup_hour  pickup_minute  \\\n",
       "456090           0.59           230           163           21             48   \n",
       "291909           1.13           170           107            9             40   \n",
       "925410           1.30           143           238           10             43   \n",
       "232651           3.28           230           137           23             13   \n",
       "63083            0.70           263           263            3             32   \n",
       "\n",
       "        pickup_second  \n",
       "456090             48  \n",
       "291909             11  \n",
       "925410             19  \n",
       "232651             55  \n",
       "63083              58  "
      ]
     },
     "execution_count": 9,
     "metadata": {},
     "output_type": "execute_result"
    }
   ],
   "source": [
    "data_base = data_base.sample(frac=0.1, replace=True)\n",
    "\n",
    "X = data_base[['trip_distance', 'PULocationID', 'DOLocationID', 'pickup_hour',\n",
    "          'pickup_minute', 'pickup_second']]\n",
    "y = data_base['duration']\n",
    "\n",
    "# Construction de notre base d'apprentissage\n",
    "X_train, X_test, y_train, y_test = train_test_split(X, y, test_size=0.3, random_state=0)\n",
    "X_train.head()"
   ]
  },
  {
   "cell_type": "code",
   "execution_count": 10,
   "metadata": {
    "ExecuteTime": {
     "end_time": "2021-01-17T16:36:32.739982Z",
     "start_time": "2021-01-17T16:36:30.337678Z"
    }
   },
   "outputs": [
    {
     "name": "stdout",
     "output_type": "stream",
     "text": [
      "INFO: 'data-engineer-duration' does not exist. Creating a new experiment\n",
      "file://C:\\Users\\Megaport/mlruns/1/55743c6e7a5f4a9c884f1ea817971a80/artifacts\n"
     ]
    }
   ],
   "source": [
    "EXPERIMENT_ID = 1\n",
    "\n",
    "n_estimators = 20\n",
    "max_depth = 10\n",
    "\n",
    "# Identification de l'interface MLflow\n",
    "mlflow.set_tracking_uri(\"file://\" + os.path.expanduser('~/mlruns'))\n",
    "\n",
    "mlflow.set_experiment(\"data-engineer-duration\")\n",
    "\n",
    "with mlflow.start_run() as run:\n",
    "    rf = RandomForestRegressor(n_estimators=n_estimators, max_depth=max_depth)\n",
    "    rf.fit(X_train, y_train)  # Processus d'optimisation de l'arbre\n",
    "    \n",
    "    mae_score = mae(y_test, rf.predict(X_test))\n",
    "    \n",
    "    mlflow.log_param(\"n_estimators\", n_estimators)\n",
    "    mlflow.log_param(\"max_depth\", max_depth)\n",
    "    \n",
    "    mlflow.log_metric(\"mae\", mae_score)\n",
    "    \n",
    "    print(mlflow.get_artifact_uri())\n",
    "    mlflow.sklearn.log_model(rf, \"model\")"
   ]
  },
  {
   "cell_type": "code",
   "execution_count": 11,
   "metadata": {
    "ExecuteTime": {
     "end_time": "2021-01-17T16:36:39.768036Z",
     "start_time": "2021-01-17T16:36:39.750033Z"
    }
   },
   "outputs": [
    {
     "data": {
      "text/plain": [
       "[<Metric: key='mae', step=0, timestamp=1610901392665, value=176.21993538115157>]"
      ]
     },
     "execution_count": 11,
     "metadata": {},
     "output_type": "execute_result"
    }
   ],
   "source": [
    "from mlflow.tracking import MlflowClient\n",
    "\n",
    "client = MlflowClient(\n",
    "    tracking_uri=\"file://\" + os.path.expanduser('~/mlruns')\n",
    ")\n",
    "\n",
    "client.get_metric_history(run.info.run_id, key='mae')"
   ]
  },
  {
   "cell_type": "code",
   "execution_count": 12,
   "metadata": {
    "ExecuteTime": {
     "end_time": "2021-01-17T16:37:12.782417Z",
     "start_time": "2021-01-17T16:36:41.546891Z"
    }
   },
   "outputs": [],
   "source": [
    "def train_rf(n_estimators, max_depth):\n",
    "    \n",
    "    with mlflow.start_run() as run:\n",
    "        rf = RandomForestRegressor(n_estimators=n_estimators, max_depth=max_depth)\n",
    "        rf.fit(X_train, y_train)  # Processus d'optimisation de l'arbre\n",
    "\n",
    "        mae_score = mae(y_test, rf.predict(X_test))\n",
    "\n",
    "        mlflow.log_param(\"n_estimators\", n_estimators)\n",
    "        mlflow.log_param(\"max_depth\", max_depth)\n",
    "\n",
    "        mlflow.log_metric(\"mae\", mae_score)\n",
    "        mlflow.sklearn.log_model(rf, \"model\")\n",
    "        \n",
    "train_rf(10, 10)\n",
    "train_rf(50, 15)\n",
    "train_rf(100, 20)"
   ]
  },
  {
   "cell_type": "code",
   "execution_count": 13,
   "metadata": {
    "ExecuteTime": {
     "end_time": "2021-01-17T16:37:32.984717Z",
     "start_time": "2021-01-17T16:37:26.118645Z"
    }
   },
   "outputs": [
    {
     "name": "stderr",
     "output_type": "stream",
     "text": [
      "ERROR: google-api-core 1.25.0 has requirement google-auth<2.0dev,>=1.21.1, but you'll have google-auth 1.11.2 which is incompatible.\n"
     ]
    }
   ],
   "source": [
    "!pip install google-cloud-storage -q"
   ]
  },
  {
   "cell_type": "code",
   "execution_count": 14,
   "metadata": {
    "ExecuteTime": {
     "end_time": "2021-01-17T16:38:23.707764Z",
     "start_time": "2021-01-17T16:38:23.704266Z"
    }
   },
   "outputs": [],
   "source": [
    "# Nouvel URI de l'interface MLflow\n",
    "mlflow.set_tracking_uri(\"http://34.65.91.126:5000\")"
   ]
  },
  {
   "cell_type": "code",
   "execution_count": 15,
   "metadata": {
    "ExecuteTime": {
     "end_time": "2021-01-17T16:38:25.375594Z",
     "start_time": "2021-01-17T16:38:25.267571Z"
    }
   },
   "outputs": [],
   "source": [
    "# Authentification à Google Cloud avec la clé correspondant au compte de service MLflow\n",
    "import os\n",
    "os.environ['GOOGLE_APPLICATION_CREDENTIALS'] = 'storage-key.json'\n",
    "from google.cloud import storage\n",
    "client = storage.Client()"
   ]
  },
  {
   "cell_type": "code",
   "execution_count": 16,
   "metadata": {
    "ExecuteTime": {
     "end_time": "2021-01-17T16:38:31.830147Z",
     "start_time": "2021-01-17T16:38:27.975152Z"
    }
   },
   "outputs": [],
   "source": [
    "def plot_mae(X, y, model):\n",
    "    \"\"\"\n",
    "    Il est aussi pertinent de logger les graphiques sous forme d'artifacts.\n",
    "    \"\"\"\n",
    "    fig = plt.figure()\n",
    "    plt.scatter(y, model.predict(X))\n",
    "    plt.xlabel(\"Durée réelle du trajet\")\n",
    "    plt.ylabel(\"Durée estimée du trajet\")\n",
    "    \n",
    "    image = fig\n",
    "    fig.savefig(\"MAE.png\")\n",
    "    plt.close(fig)\n",
    "    return image\n",
    "\n",
    "def train_rf(n_estimators, max_depth):\n",
    "    \n",
    "    with mlflow.start_run(experiment_id=1):\n",
    "        rf = RandomForestRegressor(n_estimators=n_estimators, max_depth=max_depth)\n",
    "        rf.fit(X_train, y_train)  # Processus d'optimisation de l'arbre\n",
    "\n",
    "        mae_score = mae(y_test, rf.predict(X_test))\n",
    "        plot_mae(X_test, y_test, rf)\n",
    "\n",
    "        mlflow.log_param(\"n_estimators\", n_estimators)\n",
    "        mlflow.log_param(\"max_depth\", max_depth)\n",
    "\n",
    "        mlflow.log_metric(\"mae\", mae_score)\n",
    "        mlflow.log_artifact(\"MAE.png\")\n",
    "        mlflow.sklearn.log_model(rf, \"model\")\n",
    "        \n",
    "train_rf(10, 10)"
   ]
  },
  {
   "cell_type": "code",
   "execution_count": null,
   "metadata": {},
   "outputs": [],
   "source": []
  }
 ],
 "metadata": {
  "kernelspec": {
   "display_name": "virtEnv",
   "language": "python",
   "name": "virtenv"
  },
  "language_info": {
   "codemirror_mode": {
    "name": "ipython",
    "version": 3
   },
   "file_extension": ".py",
   "mimetype": "text/x-python",
   "name": "python",
   "nbconvert_exporter": "python",
   "pygments_lexer": "ipython3",
   "version": "3.7.7"
  },
  "toc": {
   "base_numbering": 1,
   "nav_menu": {},
   "number_sections": true,
   "sideBar": true,
   "skip_h1_title": false,
   "title_cell": "Table of Contents",
   "title_sidebar": "Contents",
   "toc_cell": true,
   "toc_position": {},
   "toc_section_display": true,
   "toc_window_display": true
  },
  "varInspector": {
   "cols": {
    "lenName": 16,
    "lenType": 16,
    "lenVar": 40
   },
   "kernels_config": {
    "python": {
     "delete_cmd_postfix": "",
     "delete_cmd_prefix": "del ",
     "library": "var_list.py",
     "varRefreshCmd": "print(var_dic_list())"
    },
    "r": {
     "delete_cmd_postfix": ") ",
     "delete_cmd_prefix": "rm(",
     "library": "var_list.r",
     "varRefreshCmd": "cat(var_dic_list()) "
    }
   },
   "types_to_exclude": [
    "module",
    "function",
    "builtin_function_or_method",
    "instance",
    "_Feature"
   ],
   "window_display": false
  }
 },
 "nbformat": 4,
 "nbformat_minor": 4
}
